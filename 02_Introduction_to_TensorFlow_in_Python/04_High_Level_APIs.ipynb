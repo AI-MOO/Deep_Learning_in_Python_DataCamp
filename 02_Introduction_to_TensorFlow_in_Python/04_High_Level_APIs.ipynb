{
 "cells": [
  {
   "attachments": {},
   "cell_type": "markdown",
   "metadata": {},
   "source": [
    "### `01: The sequential model in Keras`\n",
    "\n",
    "In chapter 3, we used components of the keras API in tensorflow to define a neural network, but we stopped short of using its full capabilities to streamline model definition and training. In this exercise, you will use the keras sequential model API to define a neural network that can be used to classify images of sign language letters. You will also use the .summary() method to print the model's architecture, including the shape and number of parameters associated with each layer.\n",
    "\n",
    "Note that the images were reshaped from (28, 28) to (784,), so that they could be used as inputs to a dense layer. Additionally, note that keras has been imported from tensorflow for you.\n",
    "\n",
    "- Define a `keras` sequential model named `model`.\n",
    "- Set the first layer to be `Dense()` and to have 16 nodes and a `relu` activation.\n",
    "- Define the second layer to be `Dense()` and to have 8 nodes and a `relu` activation.\n",
    "- Set the output layer to have 4 nodes and use a `softmax` activation function."
   ]
  },
  {
   "cell_type": "code",
   "execution_count": 1,
   "metadata": {},
   "outputs": [],
   "source": [
    "from tensorflow import keras"
   ]
  },
  {
   "cell_type": "code",
   "execution_count": 2,
   "metadata": {},
   "outputs": [
    {
     "name": "stdout",
     "output_type": "stream",
     "text": [
      "Model: \"sequential\"\n",
      "_________________________________________________________________\n",
      " Layer (type)                Output Shape              Param #   \n",
      "=================================================================\n",
      " dense (Dense)               (None, 16)                12560     \n",
      "                                                                 \n",
      " dense_1 (Dense)             (None, 8)                 136       \n",
      "                                                                 \n",
      " dense_2 (Dense)             (None, 4)                 36        \n",
      "                                                                 \n",
      "=================================================================\n",
      "Total params: 12,732\n",
      "Trainable params: 12,732\n",
      "Non-trainable params: 0\n",
      "_________________________________________________________________\n",
      "None\n"
     ]
    }
   ],
   "source": [
    "# Define a Keras sequential model\n",
    "model = keras.Sequential()\n",
    "\n",
    "# Define the first dense layer\n",
    "model.add(keras.layers.Dense(16, activation='relu', input_shape=(784,)))\n",
    "\n",
    "# Define the second dense layer\n",
    "model.add(keras.layers.Dense(8, activation='relu'))\n",
    "\n",
    "# Define the output layer\n",
    "model.add(keras.layers.Dense(4, activation='softmax'))\n",
    "\n",
    "# Print the model architecture\n",
    "print(model.summary())"
   ]
  },
  {
   "attachments": {},
   "cell_type": "markdown",
   "metadata": {},
   "source": [
    "Excellent work! Notice that we've defined a model, but we haven't compiled it. The compilation step in `keras` allows us to set the optimizer, loss function, and other useful training parameters in a single line of code. Furthermore, the `.summary()` method allows us to view the model's architecture.\n",
    "\n"
   ]
  },
  {
   "attachments": {},
   "cell_type": "markdown",
   "metadata": {},
   "source": [
    "### `02: Compiling a sequential model`\n",
    "In this exercise, you will work towards classifying letters from the Sign Language MNIST dataset; however, you will adopt a different network architecture than what you used in the previous exercise. There will be fewer layers, but more nodes. You will also apply dropout to prevent overfitting. Finally, you will compile the model to use the adam optimizer and the categorical_crossentropy loss. You will also use a method in keras to summarize your model's architecture. Note that keras has been imported from tensorflow for you and a sequential keras model has been defined as model.\n",
    "\n",
    "- In the first dense layer, set the number of nodes to 16, the activation to `sigmoid`, and the `input_shape` to (784,).\n",
    "- Apply dropout at a rate of 25% to the first layer's output.\n",
    "- Set the output layer to be dense, have 4 nodes, and use a `softmax` activation function.\n",
    "- Compile the model using an `adam` optimizer and `categorical_crossentropy` loss function."
   ]
  },
  {
   "cell_type": "code",
   "execution_count": 3,
   "metadata": {},
   "outputs": [
    {
     "name": "stdout",
     "output_type": "stream",
     "text": [
      "Model: \"sequential\"\n",
      "_________________________________________________________________\n",
      " Layer (type)                Output Shape              Param #   \n",
      "=================================================================\n",
      " dense (Dense)               (None, 16)                12560     \n",
      "                                                                 \n",
      " dense_1 (Dense)             (None, 8)                 136       \n",
      "                                                                 \n",
      " dense_2 (Dense)             (None, 4)                 36        \n",
      "                                                                 \n",
      " dense_3 (Dense)             (None, 16)                80        \n",
      "                                                                 \n",
      " dropout (Dropout)           (None, 16)                0         \n",
      "                                                                 \n",
      " dense_4 (Dense)             (None, 4)                 68        \n",
      "                                                                 \n",
      "=================================================================\n",
      "Total params: 12,880\n",
      "Trainable params: 12,880\n",
      "Non-trainable params: 0\n",
      "_________________________________________________________________\n",
      "None\n"
     ]
    }
   ],
   "source": [
    "# Define the first dense layer\n",
    "model.add(keras.layers.Dense(16, activation='sigmoid', input_shape=(784,)))\n",
    "\n",
    "# Apply dropout to the first layer's output\n",
    "model.add(keras.layers.Dropout(0.25))\n",
    "\n",
    "# Define the output layer\n",
    "model.add(keras.layers.Dense(4, activation='softmax'))\n",
    "\n",
    "# Compile the model\n",
    "model.compile('adam', loss='categorical_crossentropy')\n",
    "\n",
    "# Print a model summary\n",
    "print(model.summary())"
   ]
  },
  {
   "attachments": {},
   "cell_type": "markdown",
   "metadata": {},
   "source": [
    "Great work! You've now defined and compiled a neural network using the keras sequential model. Notice that printing the .summary() method shows the layer type, output shape, and number of parameters of each layer.\n",
    "\n"
   ]
  },
  {
   "attachments": {},
   "cell_type": "markdown",
   "metadata": {},
   "source": [
    "### `03: Defining a multiple input model`\n",
    "In some cases, the sequential API will not be sufficiently flexible to accommodate your desired model architecture and you will need to use the functional API instead. If, for instance, you want to train two models with different architectures jointly, you will need to use the functional API to do this. In this exercise, we will see how to do this. We will also use the .summary() method to examine the joint model's architecture.\n",
    "\n",
    "Note that keras has been imported from tensorflow for you. Additionally, the input layers of the first and second models have been defined as m1_inputs and m2_inputs, respectively. Note that the two models have the same architecture, but one of them uses a sigmoid activation in the first layer and the other uses a relu.\n",
    "\n",
    "- Pass model 1's input layer to its first layer and model 1's first layer to its second layer.\n",
    "- Pass model 2's input layer to its first layer and model 2's first layer to its second layer.\n",
    "- Use the `add()` operation to combine the second layers of model 1 and model 2.\n",
    "- Complete the functional model definition."
   ]
  },
  {
   "cell_type": "code",
   "execution_count": null,
   "metadata": {},
   "outputs": [],
   "source": [
    "# For model 1, pass the input layer to layer 1 and layer 1 to layer 2\n",
    "m1_layer1 = keras.layers.Dense(12, activation='sigmoid')(m1_inputs)\n",
    "m1_layer2 = keras.layers.Dense(4, activation='softmax')(m1_layer1)\n",
    "\n",
    "# For model 2, pass the input layer to layer 1 and layer 1 to layer 2\n",
    "m2_layer1 = keras.layers.Dense(12, activation='relu')(m2_inputs)\n",
    "m2_layer2 = keras.layers.Dense(4, activation='softmax')(m2_layer1)\n",
    "\n",
    "# Merge model outputs and define a functional model\n",
    "merged = keras.layers.add([m1_layer2, m2_layer2])\n",
    "model = keras.Model(inputs=[m1_inputs, m2_inputs], outputs=merged)\n",
    "\n",
    "# Print a model summary\n",
    "print(model.summary())"
   ]
  },
  {
   "attachments": {},
   "cell_type": "markdown",
   "metadata": {},
   "source": [
    "Nice work! Notice that the `.summary()` method yields a new column: `connected to`. This column tells you how layers connect to each other within the network. We can see that `dense_2`, for instance, is connected to the `input_2` layer. We can also see that the `add` layer, which merged the two models, connected to both `dense_1` and `dense_3`.\n",
    "\n"
   ]
  },
  {
   "attachments": {},
   "cell_type": "markdown",
   "metadata": {},
   "source": [
    "### `04: Training with Keras`\n",
    "In this exercise, we return to our sign language letter classification problem. We have 2000 images of four letters--A, B, C, and D--and we want to classify them with a high level of accuracy. We will complete all parts of the problem, including the model definition, compilation, and training.\n",
    "\n",
    "Note that keras has been imported from tensorflow for you. Additionally, the features are available as sign_language_features and the targets are available as sign_language_labels.\n",
    "\n",
    "- Define a sequential model named `model`.\n",
    "- Set the output layer to be dense, have 4 nodes, and use a `softmax` activation function.\n",
    "- Compile the model with the `SGD` optimizer and `categorical_crossentropy` loss.\n",
    "- Complete the fitting operation and set the number of epochs to 5."
   ]
  },
  {
   "cell_type": "code",
   "execution_count": 7,
   "metadata": {},
   "outputs": [],
   "source": [
    "import numpy as np\n",
    "from tensorflow import keras \n",
    "sign_language_features = np.load(\"datasets/sign_language_features.npy\")\n",
    "sign_language_labels = np.load(\"datasets/sign_language_labels.npy\")"
   ]
  },
  {
   "cell_type": "code",
   "execution_count": 8,
   "metadata": {},
   "outputs": [
    {
     "name": "stdout",
     "output_type": "stream",
     "text": [
      "Epoch 1/5\n",
      "32/32 [==============================] - 0s 2ms/step - loss: 1.3396\n",
      "Epoch 2/5\n",
      "32/32 [==============================] - 0s 2ms/step - loss: 1.1748\n",
      "Epoch 3/5\n",
      "32/32 [==============================] - 0s 2ms/step - loss: 1.0312\n",
      "Epoch 4/5\n",
      "32/32 [==============================] - 0s 2ms/step - loss: 0.8966\n",
      "Epoch 5/5\n",
      "32/32 [==============================] - 0s 2ms/step - loss: 0.7731\n"
     ]
    },
    {
     "data": {
      "text/plain": [
       "<keras.callbacks.History at 0x23600870e20>"
      ]
     },
     "execution_count": 8,
     "metadata": {},
     "output_type": "execute_result"
    }
   ],
   "source": [
    "# Define a sequential model\n",
    "model = keras.Sequential()\n",
    "\n",
    "# Define a hidden layer\n",
    "model.add(keras.layers.Dense(16, activation='relu', input_shape=(784,)))\n",
    "\n",
    "# Define the output layer\n",
    "model.add(keras.layers.Dense(4, activation='softmax'))\n",
    "\n",
    "# Compile the model\n",
    "model.compile('SGD', loss='categorical_crossentropy')\n",
    "\n",
    "# Complete the fitting operation\n",
    "model.fit(sign_language_features, sign_language_labels, epochs=5)"
   ]
  },
  {
   "attachments": {},
   "cell_type": "markdown",
   "metadata": {},
   "source": [
    "Great work! You probably noticed that your only measure of performance improvement was the value of the loss function in the training sample, which is not particularly informative. You will improve on this in the next exercise.\n",
    "\n"
   ]
  },
  {
   "attachments": {},
   "cell_type": "markdown",
   "metadata": {},
   "source": [
    "### `05: Metrics and validation with Keras`\n",
    "We trained a model to predict sign language letters in the previous exercise, but it is unclear how successful we were in doing so. In this exercise, we will try to improve upon the interpretability of our results. Since we did not use a validation split, we only observed performance improvements within the training set; however, it is unclear how much of that was due to overfitting. Furthermore, since we did not supply a metric, we only saw decreases in the loss function, which do not have any clear interpretation.\n",
    "\n",
    "Note that keras has been imported for you from tensorflow.\n",
    "\n",
    "- Set the first dense layer to have 32 nodes, use a `sigmoid` activation function, and have an input shape of (784,).\n",
    "- Use the root mean square propagation optimizer, a categorical crossentropy loss, and the accuracy metric.\n",
    "- Set the number of epochs to 10 and use 10% of the dataset for validation."
   ]
  },
  {
   "cell_type": "code",
   "execution_count": 9,
   "metadata": {},
   "outputs": [
    {
     "name": "stdout",
     "output_type": "stream",
     "text": [
      "Epoch 1/10\n",
      "29/29 [==============================] - 1s 9ms/step - loss: 1.2510 - accuracy: 0.4622 - val_loss: 1.2129 - val_accuracy: 0.2400\n",
      "Epoch 2/10\n",
      "29/29 [==============================] - 0s 5ms/step - loss: 1.0050 - accuracy: 0.6844 - val_loss: 1.0396 - val_accuracy: 0.4800\n",
      "Epoch 3/10\n",
      "29/29 [==============================] - 0s 4ms/step - loss: 0.8535 - accuracy: 0.7622 - val_loss: 0.9336 - val_accuracy: 0.5500\n",
      "Epoch 4/10\n",
      "29/29 [==============================] - 0s 4ms/step - loss: 0.7273 - accuracy: 0.8511 - val_loss: 0.8694 - val_accuracy: 0.6900\n",
      "Epoch 5/10\n",
      "29/29 [==============================] - 0s 5ms/step - loss: 0.6262 - accuracy: 0.8400 - val_loss: 0.6652 - val_accuracy: 0.8000\n",
      "Epoch 6/10\n",
      "29/29 [==============================] - 0s 4ms/step - loss: 0.5468 - accuracy: 0.8889 - val_loss: 0.9115 - val_accuracy: 0.4800\n",
      "Epoch 7/10\n",
      "29/29 [==============================] - 0s 4ms/step - loss: 0.4968 - accuracy: 0.8989 - val_loss: 0.4903 - val_accuracy: 0.8900\n",
      "Epoch 8/10\n",
      "29/29 [==============================] - 0s 4ms/step - loss: 0.4276 - accuracy: 0.9322 - val_loss: 0.4550 - val_accuracy: 0.8300\n",
      "Epoch 9/10\n",
      "29/29 [==============================] - 0s 4ms/step - loss: 0.3691 - accuracy: 0.9500 - val_loss: 0.4094 - val_accuracy: 0.9600\n",
      "Epoch 10/10\n",
      "29/29 [==============================] - 0s 4ms/step - loss: 0.3366 - accuracy: 0.9422 - val_loss: 0.3054 - val_accuracy: 0.9800\n"
     ]
    },
    {
     "data": {
      "text/plain": [
       "<keras.callbacks.History at 0x23610d51760>"
      ]
     },
     "execution_count": 9,
     "metadata": {},
     "output_type": "execute_result"
    }
   ],
   "source": [
    "# Define sequential model\n",
    "model = keras.Sequential()\n",
    "\n",
    "# Define the first layer\n",
    "model.add(keras.layers.Dense(32 , activation='sigmoid', input_shape=(784,)))\n",
    "\n",
    "# Add activation function to classifier\n",
    "model.add(keras.layers.Dense(4, activation='softmax'))\n",
    "\n",
    "# Set the optimizer, loss function, and metrics\n",
    "model.compile(optimizer='RMSprop', loss='categorical_crossentropy', metrics=['accuracy'])\n",
    "\n",
    "# Add the number of epochs and the validation split\n",
    "model.fit(sign_language_features, sign_language_labels, epochs=10, validation_split=0.1)"
   ]
  },
  {
   "attachments": {},
   "cell_type": "markdown",
   "metadata": {},
   "source": [
    "Nice work! With the keras API, you only needed 14 lines of code to define, compile, train, and validate a model. You may have noticed that your model performed quite well. In just 10 epochs, we achieved a classification accuracy of over 90% in the validation sample!\n",
    "\n"
   ]
  },
  {
   "cell_type": "code",
   "execution_count": 12,
   "metadata": {},
   "outputs": [
    {
     "name": "stdout",
     "output_type": "stream",
     "text": [
      "Epoch 1/50\n",
      "16/16 [==============================] - 1s 18ms/step - loss: 2.0019 - accuracy: 0.3360 - val_loss: 0.8657 - val_accuracy: 0.7300\n",
      "Epoch 2/50\n",
      "16/16 [==============================] - 0s 11ms/step - loss: 0.8485 - accuracy: 0.6760 - val_loss: 0.6100 - val_accuracy: 0.9400\n",
      "Epoch 3/50\n",
      "16/16 [==============================] - 0s 11ms/step - loss: 0.5446 - accuracy: 0.8260 - val_loss: 0.4861 - val_accuracy: 0.7660\n",
      "Epoch 4/50\n",
      "16/16 [==============================] - 0s 11ms/step - loss: 0.4098 - accuracy: 0.9060 - val_loss: 0.3608 - val_accuracy: 0.9440\n",
      "Epoch 5/50\n",
      "16/16 [==============================] - 0s 12ms/step - loss: 0.2940 - accuracy: 0.9660 - val_loss: 0.3193 - val_accuracy: 0.9240\n",
      "Epoch 6/50\n",
      "16/16 [==============================] - 0s 11ms/step - loss: 0.2752 - accuracy: 0.9280 - val_loss: 0.2627 - val_accuracy: 0.9500\n",
      "Epoch 7/50\n",
      "16/16 [==============================] - 0s 8ms/step - loss: 0.2164 - accuracy: 0.9780 - val_loss: 0.2384 - val_accuracy: 0.9500\n",
      "Epoch 8/50\n",
      "16/16 [==============================] - 0s 8ms/step - loss: 0.2021 - accuracy: 0.9660 - val_loss: 0.1956 - val_accuracy: 0.9640\n",
      "Epoch 9/50\n",
      "16/16 [==============================] - 0s 7ms/step - loss: 0.1503 - accuracy: 0.9860 - val_loss: 0.1955 - val_accuracy: 0.9460\n",
      "Epoch 10/50\n",
      "16/16 [==============================] - 0s 8ms/step - loss: 0.1411 - accuracy: 0.9760 - val_loss: 0.1385 - val_accuracy: 0.9880\n",
      "Epoch 11/50\n",
      "16/16 [==============================] - 0s 8ms/step - loss: 0.1002 - accuracy: 0.9940 - val_loss: 0.1139 - val_accuracy: 0.9820\n",
      "Epoch 12/50\n",
      "16/16 [==============================] - 0s 8ms/step - loss: 0.0883 - accuracy: 0.9900 - val_loss: 0.0934 - val_accuracy: 0.9960\n",
      "Epoch 13/50\n",
      "16/16 [==============================] - 0s 8ms/step - loss: 0.0786 - accuracy: 0.9940 - val_loss: 0.1018 - val_accuracy: 0.9960\n",
      "Epoch 14/50\n",
      "16/16 [==============================] - 0s 7ms/step - loss: 0.1126 - accuracy: 0.9760 - val_loss: 0.1734 - val_accuracy: 0.9320\n",
      "Epoch 15/50\n",
      "16/16 [==============================] - 0s 7ms/step - loss: 0.0729 - accuracy: 0.9860 - val_loss: 0.0665 - val_accuracy: 0.9860\n",
      "Epoch 16/50\n",
      "16/16 [==============================] - 0s 8ms/step - loss: 0.0641 - accuracy: 0.9960 - val_loss: 0.0635 - val_accuracy: 0.9860\n",
      "Epoch 17/50\n",
      "16/16 [==============================] - 0s 7ms/step - loss: 0.0904 - accuracy: 0.9760 - val_loss: 0.0998 - val_accuracy: 0.9840\n",
      "Epoch 18/50\n",
      "16/16 [==============================] - 0s 7ms/step - loss: 0.0614 - accuracy: 0.9960 - val_loss: 0.0472 - val_accuracy: 0.9960\n",
      "Epoch 19/50\n",
      "16/16 [==============================] - 0s 7ms/step - loss: 0.0468 - accuracy: 0.9920 - val_loss: 0.0554 - val_accuracy: 0.9860\n",
      "Epoch 20/50\n",
      "16/16 [==============================] - 0s 7ms/step - loss: 0.0362 - accuracy: 1.0000 - val_loss: 0.0406 - val_accuracy: 0.9980\n",
      "Epoch 21/50\n",
      "16/16 [==============================] - 0s 7ms/step - loss: 0.0332 - accuracy: 1.0000 - val_loss: 0.0440 - val_accuracy: 0.9880\n",
      "Epoch 22/50\n",
      "16/16 [==============================] - 0s 7ms/step - loss: 0.0290 - accuracy: 1.0000 - val_loss: 0.0346 - val_accuracy: 1.0000\n",
      "Epoch 23/50\n",
      "16/16 [==============================] - 0s 7ms/step - loss: 0.0251 - accuracy: 1.0000 - val_loss: 0.0316 - val_accuracy: 0.9980\n",
      "Epoch 24/50\n",
      "16/16 [==============================] - 0s 8ms/step - loss: 0.0227 - accuracy: 1.0000 - val_loss: 0.0319 - val_accuracy: 0.9940\n",
      "Epoch 25/50\n",
      "16/16 [==============================] - 0s 7ms/step - loss: 0.0224 - accuracy: 1.0000 - val_loss: 0.0278 - val_accuracy: 0.9980\n",
      "Epoch 26/50\n",
      "16/16 [==============================] - 0s 7ms/step - loss: 0.0200 - accuracy: 1.0000 - val_loss: 0.0293 - val_accuracy: 0.9960\n",
      "Epoch 27/50\n",
      "16/16 [==============================] - 0s 7ms/step - loss: 0.0204 - accuracy: 1.0000 - val_loss: 0.0259 - val_accuracy: 0.9960\n",
      "Epoch 28/50\n",
      "16/16 [==============================] - 0s 8ms/step - loss: 0.0187 - accuracy: 1.0000 - val_loss: 0.0278 - val_accuracy: 0.9880\n",
      "Epoch 29/50\n",
      "16/16 [==============================] - 0s 7ms/step - loss: 0.0158 - accuracy: 1.0000 - val_loss: 0.0239 - val_accuracy: 1.0000\n",
      "Epoch 30/50\n",
      "16/16 [==============================] - 0s 8ms/step - loss: 0.0165 - accuracy: 1.0000 - val_loss: 0.0313 - val_accuracy: 0.9880\n",
      "Epoch 31/50\n",
      "16/16 [==============================] - 0s 8ms/step - loss: 0.0155 - accuracy: 1.0000 - val_loss: 0.0211 - val_accuracy: 1.0000\n",
      "Epoch 32/50\n",
      "16/16 [==============================] - 0s 7ms/step - loss: 0.0134 - accuracy: 1.0000 - val_loss: 0.0201 - val_accuracy: 1.0000\n",
      "Epoch 33/50\n",
      "16/16 [==============================] - 0s 7ms/step - loss: 0.0138 - accuracy: 1.0000 - val_loss: 0.0192 - val_accuracy: 1.0000\n",
      "Epoch 34/50\n",
      "16/16 [==============================] - 0s 7ms/step - loss: 0.0110 - accuracy: 1.0000 - val_loss: 0.0196 - val_accuracy: 0.9960\n",
      "Epoch 35/50\n",
      "16/16 [==============================] - 0s 7ms/step - loss: 0.0110 - accuracy: 1.0000 - val_loss: 0.0184 - val_accuracy: 0.9980\n",
      "Epoch 36/50\n",
      "16/16 [==============================] - 0s 8ms/step - loss: 0.0105 - accuracy: 1.0000 - val_loss: 0.0173 - val_accuracy: 1.0000\n",
      "Epoch 37/50\n",
      "16/16 [==============================] - 0s 7ms/step - loss: 0.0103 - accuracy: 1.0000 - val_loss: 0.0167 - val_accuracy: 1.0000\n",
      "Epoch 38/50\n",
      "16/16 [==============================] - 0s 7ms/step - loss: 0.0088 - accuracy: 1.0000 - val_loss: 0.0189 - val_accuracy: 0.9940\n",
      "Epoch 39/50\n",
      "16/16 [==============================] - 0s 7ms/step - loss: 0.0096 - accuracy: 1.0000 - val_loss: 0.0204 - val_accuracy: 0.9880\n",
      "Epoch 40/50\n",
      "16/16 [==============================] - 0s 7ms/step - loss: 0.0084 - accuracy: 1.0000 - val_loss: 0.0202 - val_accuracy: 0.9880\n",
      "Epoch 41/50\n",
      "16/16 [==============================] - 0s 7ms/step - loss: 0.0081 - accuracy: 1.0000 - val_loss: 0.0186 - val_accuracy: 0.9920\n",
      "Epoch 42/50\n",
      "16/16 [==============================] - 0s 7ms/step - loss: 0.0076 - accuracy: 1.0000 - val_loss: 0.0161 - val_accuracy: 0.9960\n",
      "Epoch 43/50\n",
      "16/16 [==============================] - 0s 7ms/step - loss: 0.0078 - accuracy: 1.0000 - val_loss: 0.0138 - val_accuracy: 1.0000\n",
      "Epoch 44/50\n",
      "16/16 [==============================] - 0s 7ms/step - loss: 0.0069 - accuracy: 1.0000 - val_loss: 0.0175 - val_accuracy: 0.9900\n",
      "Epoch 45/50\n",
      "16/16 [==============================] - 0s 7ms/step - loss: 0.0067 - accuracy: 1.0000 - val_loss: 0.0174 - val_accuracy: 0.9880\n",
      "Epoch 46/50\n",
      "16/16 [==============================] - 0s 7ms/step - loss: 0.0062 - accuracy: 1.0000 - val_loss: 0.0135 - val_accuracy: 0.9980\n",
      "Epoch 47/50\n",
      "16/16 [==============================] - 0s 7ms/step - loss: 0.0062 - accuracy: 1.0000 - val_loss: 0.0125 - val_accuracy: 1.0000\n",
      "Epoch 48/50\n",
      "16/16 [==============================] - 0s 8ms/step - loss: 0.0060 - accuracy: 1.0000 - val_loss: 0.0123 - val_accuracy: 1.0000\n",
      "Epoch 49/50\n",
      "16/16 [==============================] - 0s 8ms/step - loss: 0.0064 - accuracy: 1.0000 - val_loss: 0.0127 - val_accuracy: 0.9980\n",
      "Epoch 50/50\n",
      "16/16 [==============================] - 0s 8ms/step - loss: 0.0053 - accuracy: 1.0000 - val_loss: 0.0122 - val_accuracy: 1.0000\n"
     ]
    },
    {
     "data": {
      "text/plain": [
       "<keras.callbacks.History at 0x23614be14f0>"
      ]
     },
     "execution_count": 12,
     "metadata": {},
     "output_type": "execute_result"
    }
   ],
   "source": [
    "# Define sequential model\n",
    "model = keras.Sequential()\n",
    " \n",
    "# Define the first layer\n",
    "model.add(keras.layers.Dense(1024, activation='relu', input_shape=(784,)))\n",
    "\n",
    "# Add activation function to classifier\n",
    "model.add(keras.layers.Dense(4, activation='softmax'))\n",
    "\n",
    "# Finish the model compilation\n",
    "model.compile(optimizer=keras.optimizers.Adam(lr=0.001), \n",
    "              loss='categorical_crossentropy', metrics=['accuracy'])\n",
    "\n",
    "# Complete the model fit operation\n",
    "model.fit(sign_language_features, sign_language_labels, epochs=50, validation_split=0.5)"
   ]
  },
  {
   "attachments": {},
   "cell_type": "markdown",
   "metadata": {},
   "source": [
    "Excellent work! You may have noticed that the validation loss, val_loss, was substantially higher than the training loss, loss. Furthermore, if val_loss started to increase before the training process was terminated, then we may have overfitted. When this happens, you will want to try decreasing the number of epochs.\n",
    "\n"
   ]
  },
  {
   "attachments": {},
   "cell_type": "markdown",
   "metadata": {},
   "source": [
    "### `06: Evaluating models`\n",
    "Two models have been trained and are available: `large_model`, which has many parameters; and `small_model`, which has fewer parameters. Both models have been trained using train_features and train_labels, which are available to you. A separate test set, which consists of test_features and test_labels, is also available.\n",
    "\n",
    "Your goal is to evaluate relative model performance and also determine whether either model exhibits signs of overfitting. You will do this by evaluating large_model and small_model on both the train and test sets. For each model, you can do this by applying the .evaluate(x, y) method to compute the loss for features x and labels y. You will then compare the four losses generated.\n",
    "\n",
    "- Evaluate the small model using the train data.\n",
    "- Evaluate the small model using the test data.\n",
    "- Evaluate the large model using the train data.\n",
    "- Evaluate the large model using the test data."
   ]
  },
  {
   "cell_type": "code",
   "execution_count": null,
   "metadata": {},
   "outputs": [],
   "source": [
    "# Evaluate the small model using the train data\n",
    "small_train = small_model.evaluate(train_features, train_labels)\n",
    "\n",
    "# Evaluate the small model using the test data\n",
    "small_test = small_model.evaluate(test_features, test_labels)\n",
    "\n",
    "# Evaluate the large model using the train data\n",
    "large_train = large_model.evaluate(train_features, train_labels)\n",
    "\n",
    "# Evaluate the large model using the test data\n",
    "large_test = large_model.evaluate(test_features, test_labels)\n",
    "\n",
    "# Print losses\n",
    "print('\\n Small - Train: {}, Test: {}'.format(small_train, small_test))\n",
    "print('Large - Train: {}, Test: {}'.format(large_train, large_test))"
   ]
  },
  {
   "attachments": {},
   "cell_type": "markdown",
   "metadata": {},
   "source": [
    "\n",
    "    \n",
    "     Small - Train: 0.1698155403137207, Test: 0.2848726212978363\n",
    "    Large - Train: 0.03957207500934601, Test: 0.14543527364730835"
   ]
  },
  {
   "attachments": {},
   "cell_type": "markdown",
   "metadata": {},
   "source": [
    "Great job! Notice that the gap between the test and train set losses is high for large_model, suggesting that overfitting may be an issue. Furthermore, both test and train set performance is better for large_model. This suggests that we may want to use large_model, but reduce the number of training epochs.\n",
    "\n"
   ]
  },
  {
   "attachments": {},
   "cell_type": "markdown",
   "metadata": {},
   "source": [
    "### `07: Preparing to train with Estimators`\n",
    "For this exercise, we'll return to the King County housing transaction dataset from chapter 2. We will again develop and train a machine learning model to predict house prices; however, this time, we'll do it using the estimator API.\n",
    "\n",
    "Rather than completing everything in one step, we'll break this procedure down into parts. We'll begin by defining the feature columns and loading the data. In the next exercise, we'll define and train a premade estimator. Note that feature_column has been imported for you from tensorflow. Additionally, numpy has been imported as np, and the Kings County housing dataset is available as a pandas DataFrame: housing.\n",
    "\n",
    "- Complete the feature column for `bedrooms` and add another numeric feature column for `bathrooms`. Use `bedrooms` and `bathrooms` as the keys.\n",
    "- Create a list of the feature columns, `feature_list`, in the order in which they were defined.\n",
    "- Set `labels` to be equal to the `price` column in `housing`.\n",
    "- Complete the `bedrooms` entry of the `features` dictionary and add another entry for `bathrooms`.\n",
    "\n",
    "\n"
   ]
  },
  {
   "cell_type": "code",
   "execution_count": 13,
   "metadata": {},
   "outputs": [],
   "source": [
    "from tensorflow import feature_column\n",
    "import pandas as pd \n",
    "housing = pd.read_csv('datasets/kc_house_data.csv')\n"
   ]
  },
  {
   "cell_type": "code",
   "execution_count": 14,
   "metadata": {},
   "outputs": [],
   "source": [
    "# Define feature columns for bedrooms and bathrooms\n",
    "bedrooms = feature_column.numeric_column(\"bedrooms\")\n",
    "bathrooms = feature_column.numeric_column(\"bathrooms\")\n",
    "\n",
    "# Define the list of feature columns\n",
    "feature_list = [bedrooms, bathrooms]\n",
    "\n",
    "def input_fn():\n",
    "\t# Define the labels\n",
    "\tlabels = np.array(housing['price'])\n",
    "\t# Define the features\n",
    "\tfeatures = {'bedrooms':np.array(housing['bedrooms']), \n",
    "                'bathrooms':np.array(housing['bathrooms'])}\n",
    "\treturn features, labels"
   ]
  },
  {
   "attachments": {},
   "cell_type": "markdown",
   "metadata": {},
   "source": [
    "Excellent work! In the next exercise, we'll use the feature columns and data input function to define and train an estimator.\n",
    "\n"
   ]
  },
  {
   "attachments": {},
   "cell_type": "markdown",
   "metadata": {},
   "source": [
    "### `08: Defining Estimators`\n",
    "\n",
    "In the previous exercise, you defined a list of feature columns, feature_list, and a data input function, input_fn(). In this exercise, you will build on that work by defining an estimator that makes use of input data.\n",
    "\n",
    "- Use a deep neural network regressor with 2 nodes in both the first and second hidden layers and 1 training step.\n",
    "- Modify the code to use a `LinearRegressor()`, remove the `hidden_units`, and set the number of `steps` to 2.\n",
    "\n",
    "\n",
    "\n"
   ]
  },
  {
   "cell_type": "code",
   "execution_count": 15,
   "metadata": {},
   "outputs": [],
   "source": [
    "from tensorflow import estimator"
   ]
  },
  {
   "cell_type": "code",
   "execution_count": 16,
   "metadata": {},
   "outputs": [
    {
     "name": "stdout",
     "output_type": "stream",
     "text": [
      "INFO:tensorflow:Using default config.\n",
      "WARNING:tensorflow:Using temporary folder as model directory: C:\\Users\\ai_mo\\AppData\\Local\\Temp\\tmpno5cw63f\n",
      "INFO:tensorflow:Using config: {'_model_dir': 'C:\\\\Users\\\\ai_mo\\\\AppData\\\\Local\\\\Temp\\\\tmpno5cw63f', '_tf_random_seed': None, '_save_summary_steps': 100, '_save_checkpoints_steps': None, '_save_checkpoints_secs': 600, '_session_config': allow_soft_placement: true\n",
      "graph_options {\n",
      "  rewrite_options {\n",
      "    meta_optimizer_iterations: ONE\n",
      "  }\n",
      "}\n",
      ", '_keep_checkpoint_max': 5, '_keep_checkpoint_every_n_hours': 10000, '_log_step_count_steps': 100, '_train_distribute': None, '_device_fn': None, '_protocol': None, '_eval_distribute': None, '_experimental_distribute': None, '_experimental_max_worker_delay_secs': None, '_session_creation_timeout_secs': 7200, '_checkpoint_save_graph_def': True, '_service': None, '_cluster_spec': ClusterSpec({}), '_task_type': 'worker', '_task_id': 0, '_global_id_in_cluster': 0, '_master': '', '_evaluation_master': '', '_is_chief': True, '_num_ps_replicas': 0, '_num_worker_replicas': 1}\n",
      "WARNING:tensorflow:From C:\\Users\\ai_mo\\AppData\\Roaming\\Python\\Python39\\site-packages\\tensorflow\\python\\training\\training_util.py:396: Variable.initialized_value (from tensorflow.python.ops.variables) is deprecated and will be removed in a future version.\n",
      "Instructions for updating:\n",
      "Use Variable.read_value. Variables in 2.X are initialized automatically both in eager and graph (inside tf.defun) contexts.\n",
      "INFO:tensorflow:Calling model_fn.\n",
      "WARNING:tensorflow:From c:\\Users\\ai_mo\\AppData\\Local\\Programs\\Python\\Python39\\lib\\site-packages\\keras\\optimizers\\optimizer_v2\\adagrad.py:90: calling Constant.__init__ (from tensorflow.python.ops.init_ops) with dtype is deprecated and will be removed in a future version.\n",
      "Instructions for updating:\n",
      "Call initializer instance with the dtype argument instead of passing it to the constructor\n",
      "INFO:tensorflow:Done calling model_fn.\n",
      "INFO:tensorflow:Create CheckpointSaverHook.\n",
      "INFO:tensorflow:Graph was finalized.\n",
      "INFO:tensorflow:Running local_init_op.\n",
      "INFO:tensorflow:Done running local_init_op.\n",
      "INFO:tensorflow:Calling checkpoint listeners before saving checkpoint 0...\n",
      "INFO:tensorflow:Saving checkpoints for 0 into C:\\Users\\ai_mo\\AppData\\Local\\Temp\\tmpno5cw63f\\model.ckpt.\n",
      "INFO:tensorflow:Calling checkpoint listeners after saving checkpoint 0...\n",
      "INFO:tensorflow:loss = 426471360000.0, step = 0\n",
      "INFO:tensorflow:Calling checkpoint listeners before saving checkpoint 1...\n",
      "INFO:tensorflow:Saving checkpoints for 1 into C:\\Users\\ai_mo\\AppData\\Local\\Temp\\tmpno5cw63f\\model.ckpt.\n",
      "INFO:tensorflow:Calling checkpoint listeners after saving checkpoint 1...\n",
      "INFO:tensorflow:Loss for final step: 426471360000.0.\n"
     ]
    },
    {
     "data": {
      "text/plain": [
       "<tensorflow_estimator.python.estimator.canned.dnn.DNNRegressorV2 at 0x236165f4250>"
      ]
     },
     "execution_count": 16,
     "metadata": {},
     "output_type": "execute_result"
    }
   ],
   "source": [
    "# Define the model and set the number of steps\n",
    "model = estimator.DNNRegressor(feature_columns=feature_list, hidden_units=[2,2])\n",
    "model.train(input_fn, steps=1)"
   ]
  },
  {
   "cell_type": "code",
   "execution_count": 17,
   "metadata": {},
   "outputs": [
    {
     "name": "stdout",
     "output_type": "stream",
     "text": [
      "INFO:tensorflow:Using default config.\n",
      "WARNING:tensorflow:Using temporary folder as model directory: C:\\Users\\ai_mo\\AppData\\Local\\Temp\\tmp62ubq7sk\n",
      "INFO:tensorflow:Using config: {'_model_dir': 'C:\\\\Users\\\\ai_mo\\\\AppData\\\\Local\\\\Temp\\\\tmp62ubq7sk', '_tf_random_seed': None, '_save_summary_steps': 100, '_save_checkpoints_steps': None, '_save_checkpoints_secs': 600, '_session_config': allow_soft_placement: true\n",
      "graph_options {\n",
      "  rewrite_options {\n",
      "    meta_optimizer_iterations: ONE\n",
      "  }\n",
      "}\n",
      ", '_keep_checkpoint_max': 5, '_keep_checkpoint_every_n_hours': 10000, '_log_step_count_steps': 100, '_train_distribute': None, '_device_fn': None, '_protocol': None, '_eval_distribute': None, '_experimental_distribute': None, '_experimental_max_worker_delay_secs': None, '_session_creation_timeout_secs': 7200, '_checkpoint_save_graph_def': True, '_service': None, '_cluster_spec': ClusterSpec({}), '_task_type': 'worker', '_task_id': 0, '_global_id_in_cluster': 0, '_master': '', '_evaluation_master': '', '_is_chief': True, '_num_ps_replicas': 0, '_num_worker_replicas': 1}\n",
      "INFO:tensorflow:Calling model_fn.\n",
      "INFO:tensorflow:Done calling model_fn.\n",
      "INFO:tensorflow:Create CheckpointSaverHook.\n",
      "INFO:tensorflow:Graph was finalized.\n",
      "INFO:tensorflow:Running local_init_op.\n",
      "INFO:tensorflow:Done running local_init_op.\n",
      "INFO:tensorflow:Calling checkpoint listeners before saving checkpoint 0...\n",
      "INFO:tensorflow:Saving checkpoints for 0 into C:\\Users\\ai_mo\\AppData\\Local\\Temp\\tmp62ubq7sk\\model.ckpt.\n",
      "INFO:tensorflow:Calling checkpoint listeners after saving checkpoint 0...\n",
      "INFO:tensorflow:loss = 426471360000.0, step = 0\n",
      "INFO:tensorflow:Calling checkpoint listeners before saving checkpoint 2...\n",
      "INFO:tensorflow:Saving checkpoints for 2 into C:\\Users\\ai_mo\\AppData\\Local\\Temp\\tmp62ubq7sk\\model.ckpt.\n",
      "INFO:tensorflow:Calling checkpoint listeners after saving checkpoint 2...\n",
      "INFO:tensorflow:Loss for final step: 426469820000.0.\n"
     ]
    },
    {
     "data": {
      "text/plain": [
       "<tensorflow_estimator.python.estimator.canned.linear.LinearRegressorV2 at 0x236262e02e0>"
      ]
     },
     "execution_count": 17,
     "metadata": {},
     "output_type": "execute_result"
    }
   ],
   "source": [
    "# Define the model and set the number of steps\n",
    "model = estimator.LinearRegressor(feature_columns=feature_list)\n",
    "model.train(input_fn, steps=2)"
   ]
  },
  {
   "attachments": {},
   "cell_type": "markdown",
   "metadata": {},
   "source": [
    "Great work! Note that you have other premade estimator options, such as `BoostedTreesRegressor()`, and can also create your own custom estimators.\n",
    "\n"
   ]
  },
  {
   "attachments": {},
   "cell_type": "markdown",
   "metadata": {},
   "source": [
    "### `---- THE END ----`"
   ]
  }
 ],
 "metadata": {
  "kernelspec": {
   "display_name": "Python 3",
   "language": "python",
   "name": "python3"
  },
  "language_info": {
   "codemirror_mode": {
    "name": "ipython",
    "version": 3
   },
   "file_extension": ".py",
   "mimetype": "text/x-python",
   "name": "python",
   "nbconvert_exporter": "python",
   "pygments_lexer": "ipython3",
   "version": "3.9.0"
  },
  "orig_nbformat": 4
 },
 "nbformat": 4,
 "nbformat_minor": 2
}
